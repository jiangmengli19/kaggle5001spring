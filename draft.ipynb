{
 "cells": [
  {
   "cell_type": "code",
   "execution_count": 1,
   "metadata": {},
   "outputs": [],
   "source": [
    "import numpy as np\n",
    "import pandas as pd"
   ]
  },
  {
   "cell_type": "code",
   "execution_count": 9,
   "metadata": {},
   "outputs": [
    {
     "data": {
      "text/html": [
       "<div>\n",
       "<style scoped>\n",
       "    .dataframe tbody tr th:only-of-type {\n",
       "        vertical-align: middle;\n",
       "    }\n",
       "\n",
       "    .dataframe tbody tr th {\n",
       "        vertical-align: top;\n",
       "    }\n",
       "\n",
       "    .dataframe thead th {\n",
       "        text-align: right;\n",
       "    }\n",
       "</style>\n",
       "<table border=\"1\" class=\"dataframe\">\n",
       "  <thead>\n",
       "    <tr style=\"text-align: right;\">\n",
       "      <th></th>\n",
       "      <th>id</th>\n",
       "      <th>MO HLADR+ MFI (cells/ul)</th>\n",
       "      <th>Neu CD64+MFI (cells/ul)</th>\n",
       "      <th>CD3+T (cells/ul)</th>\n",
       "      <th>CD8+T (cells/ul)</th>\n",
       "      <th>CD4+T (cells/ul)</th>\n",
       "      <th>NK (cells/ul)</th>\n",
       "      <th>CD19+ (cells/ul)</th>\n",
       "      <th>CD45+ (cells/ul)</th>\n",
       "      <th>Age</th>\n",
       "      <th>Sex 0M1F</th>\n",
       "      <th>Mono CD64+MFI (cells/ul)</th>\n",
       "      <th>label</th>\n",
       "    </tr>\n",
       "  </thead>\n",
       "  <tbody>\n",
       "    <tr>\n",
       "      <th>30</th>\n",
       "      <td>30</td>\n",
       "      <td>1188.0</td>\n",
       "      <td>82.0</td>\n",
       "      <td>1108.99</td>\n",
       "      <td>623.49</td>\n",
       "      <td>483.60</td>\n",
       "      <td>217.11</td>\n",
       "      <td>213.32</td>\n",
       "      <td>1547.02</td>\n",
       "      <td>49</td>\n",
       "      <td>1</td>\n",
       "      <td>1947.0</td>\n",
       "      <td>0</td>\n",
       "    </tr>\n",
       "    <tr>\n",
       "      <th>31</th>\n",
       "      <td>31</td>\n",
       "      <td>1035.0</td>\n",
       "      <td>87.0</td>\n",
       "      <td>281.73</td>\n",
       "      <td>124.41</td>\n",
       "      <td>159.52</td>\n",
       "      <td>69.13</td>\n",
       "      <td>41.42</td>\n",
       "      <td>394.64</td>\n",
       "      <td>41</td>\n",
       "      <td>0</td>\n",
       "      <td>1651.0</td>\n",
       "      <td>0</td>\n",
       "    </tr>\n",
       "    <tr>\n",
       "      <th>32</th>\n",
       "      <td>32</td>\n",
       "      <td>1588.0</td>\n",
       "      <td>92.0</td>\n",
       "      <td>1442.63</td>\n",
       "      <td>606.07</td>\n",
       "      <td>840.82</td>\n",
       "      <td>325.80</td>\n",
       "      <td>485.86</td>\n",
       "      <td>2282.03</td>\n",
       "      <td>35</td>\n",
       "      <td>0</td>\n",
       "      <td>1365.0</td>\n",
       "      <td>0</td>\n",
       "    </tr>\n",
       "    <tr>\n",
       "      <th>33</th>\n",
       "      <td>33</td>\n",
       "      <td>1117.0</td>\n",
       "      <td>336.0</td>\n",
       "      <td>409.14</td>\n",
       "      <td>206.74</td>\n",
       "      <td>209.22</td>\n",
       "      <td>37.87</td>\n",
       "      <td>27.32</td>\n",
       "      <td>475.57</td>\n",
       "      <td>44</td>\n",
       "      <td>1</td>\n",
       "      <td>3190.0</td>\n",
       "      <td>1</td>\n",
       "    </tr>\n",
       "    <tr>\n",
       "      <th>34</th>\n",
       "      <td>34</td>\n",
       "      <td>821.0</td>\n",
       "      <td>134.0</td>\n",
       "      <td>1134.74</td>\n",
       "      <td>741.00</td>\n",
       "      <td>401.00</td>\n",
       "      <td>459.72</td>\n",
       "      <td>23.87</td>\n",
       "      <td>1619.77</td>\n",
       "      <td>41</td>\n",
       "      <td>1</td>\n",
       "      <td>1893.0</td>\n",
       "      <td>0</td>\n",
       "    </tr>\n",
       "    <tr>\n",
       "      <th>35</th>\n",
       "      <td>35</td>\n",
       "      <td>693.0</td>\n",
       "      <td>245.0</td>\n",
       "      <td>266.48</td>\n",
       "      <td>103.61</td>\n",
       "      <td>164.11</td>\n",
       "      <td>147.95</td>\n",
       "      <td>87.03</td>\n",
       "      <td>504.15</td>\n",
       "      <td>49</td>\n",
       "      <td>0</td>\n",
       "      <td>2175.0</td>\n",
       "      <td>1</td>\n",
       "    </tr>\n",
       "    <tr>\n",
       "      <th>36</th>\n",
       "      <td>36</td>\n",
       "      <td>1436.0</td>\n",
       "      <td>76.0</td>\n",
       "      <td>813.73</td>\n",
       "      <td>541.23</td>\n",
       "      <td>276.28</td>\n",
       "      <td>258.81</td>\n",
       "      <td>82.18</td>\n",
       "      <td>1179.27</td>\n",
       "      <td>42</td>\n",
       "      <td>0</td>\n",
       "      <td>1794.0</td>\n",
       "      <td>0</td>\n",
       "    </tr>\n",
       "    <tr>\n",
       "      <th>37</th>\n",
       "      <td>37</td>\n",
       "      <td>620.0</td>\n",
       "      <td>472.0</td>\n",
       "      <td>250.43</td>\n",
       "      <td>150.39</td>\n",
       "      <td>68.66</td>\n",
       "      <td>64.08</td>\n",
       "      <td>125.11</td>\n",
       "      <td>439.84</td>\n",
       "      <td>37</td>\n",
       "      <td>1</td>\n",
       "      <td>1527.0</td>\n",
       "      <td>1</td>\n",
       "    </tr>\n",
       "    <tr>\n",
       "      <th>38</th>\n",
       "      <td>38</td>\n",
       "      <td>1010.0</td>\n",
       "      <td>1384.0</td>\n",
       "      <td>570.13</td>\n",
       "      <td>312.90</td>\n",
       "      <td>233.84</td>\n",
       "      <td>80.17</td>\n",
       "      <td>31.18</td>\n",
       "      <td>702.08</td>\n",
       "      <td>56</td>\n",
       "      <td>1</td>\n",
       "      <td>5501.0</td>\n",
       "      <td>1</td>\n",
       "    </tr>\n",
       "    <tr>\n",
       "      <th>39</th>\n",
       "      <td>39</td>\n",
       "      <td>NaN</td>\n",
       "      <td>NaN</td>\n",
       "      <td>1336.54</td>\n",
       "      <td>739.71</td>\n",
       "      <td>550.30</td>\n",
       "      <td>68.46</td>\n",
       "      <td>192.07</td>\n",
       "      <td>1615.68</td>\n",
       "      <td>21</td>\n",
       "      <td>0</td>\n",
       "      <td>NaN</td>\n",
       "      <td>0</td>\n",
       "    </tr>\n",
       "    <tr>\n",
       "      <th>40</th>\n",
       "      <td>40</td>\n",
       "      <td>1024.0</td>\n",
       "      <td>180.0</td>\n",
       "      <td>858.48</td>\n",
       "      <td>673.32</td>\n",
       "      <td>185.61</td>\n",
       "      <td>213.96</td>\n",
       "      <td>50.06</td>\n",
       "      <td>1129.59</td>\n",
       "      <td>47</td>\n",
       "      <td>0</td>\n",
       "      <td>1953.0</td>\n",
       "      <td>0</td>\n",
       "    </tr>\n",
       "    <tr>\n",
       "      <th>41</th>\n",
       "      <td>41</td>\n",
       "      <td>222.0</td>\n",
       "      <td>82.0</td>\n",
       "      <td>1061.47</td>\n",
       "      <td>423.27</td>\n",
       "      <td>638.74</td>\n",
       "      <td>246.18</td>\n",
       "      <td>192.45</td>\n",
       "      <td>1519.28</td>\n",
       "      <td>33</td>\n",
       "      <td>0</td>\n",
       "      <td>1686.0</td>\n",
       "      <td>0</td>\n",
       "    </tr>\n",
       "    <tr>\n",
       "      <th>42</th>\n",
       "      <td>42</td>\n",
       "      <td>602.0</td>\n",
       "      <td>98.0</td>\n",
       "      <td>770.62</td>\n",
       "      <td>499.81</td>\n",
       "      <td>276.71</td>\n",
       "      <td>214.92</td>\n",
       "      <td>76.34</td>\n",
       "      <td>1071.42</td>\n",
       "      <td>49</td>\n",
       "      <td>1</td>\n",
       "      <td>1566.0</td>\n",
       "      <td>0</td>\n",
       "    </tr>\n",
       "    <tr>\n",
       "      <th>43</th>\n",
       "      <td>43</td>\n",
       "      <td>1679.0</td>\n",
       "      <td>79.0</td>\n",
       "      <td>483.21</td>\n",
       "      <td>162.00</td>\n",
       "      <td>309.00</td>\n",
       "      <td>227.05</td>\n",
       "      <td>101.09</td>\n",
       "      <td>817.24</td>\n",
       "      <td>39</td>\n",
       "      <td>0</td>\n",
       "      <td>4480.0</td>\n",
       "      <td>0</td>\n",
       "    </tr>\n",
       "    <tr>\n",
       "      <th>44</th>\n",
       "      <td>44</td>\n",
       "      <td>1365.0</td>\n",
       "      <td>67.0</td>\n",
       "      <td>841.88</td>\n",
       "      <td>576.19</td>\n",
       "      <td>269.21</td>\n",
       "      <td>174.35</td>\n",
       "      <td>62.80</td>\n",
       "      <td>1082.11</td>\n",
       "      <td>29</td>\n",
       "      <td>1</td>\n",
       "      <td>1830.0</td>\n",
       "      <td>0</td>\n",
       "    </tr>\n",
       "  </tbody>\n",
       "</table>\n",
       "</div>"
      ],
      "text/plain": [
       "    id  MO HLADR+ MFI (cells/ul)  Neu CD64+MFI (cells/ul)  CD3+T (cells/ul)  \\\n",
       "30  30                    1188.0                     82.0           1108.99   \n",
       "31  31                    1035.0                     87.0            281.73   \n",
       "32  32                    1588.0                     92.0           1442.63   \n",
       "33  33                    1117.0                    336.0            409.14   \n",
       "34  34                     821.0                    134.0           1134.74   \n",
       "35  35                     693.0                    245.0            266.48   \n",
       "36  36                    1436.0                     76.0            813.73   \n",
       "37  37                     620.0                    472.0            250.43   \n",
       "38  38                    1010.0                   1384.0            570.13   \n",
       "39  39                       NaN                      NaN           1336.54   \n",
       "40  40                    1024.0                    180.0            858.48   \n",
       "41  41                     222.0                     82.0           1061.47   \n",
       "42  42                     602.0                     98.0            770.62   \n",
       "43  43                    1679.0                     79.0            483.21   \n",
       "44  44                    1365.0                     67.0            841.88   \n",
       "\n",
       "    CD8+T (cells/ul)  CD4+T (cells/ul)  NK (cells/ul)  CD19+ (cells/ul)  \\\n",
       "30            623.49            483.60         217.11            213.32   \n",
       "31            124.41            159.52          69.13             41.42   \n",
       "32            606.07            840.82         325.80            485.86   \n",
       "33            206.74            209.22          37.87             27.32   \n",
       "34            741.00            401.00         459.72             23.87   \n",
       "35            103.61            164.11         147.95             87.03   \n",
       "36            541.23            276.28         258.81             82.18   \n",
       "37            150.39             68.66          64.08            125.11   \n",
       "38            312.90            233.84          80.17             31.18   \n",
       "39            739.71            550.30          68.46            192.07   \n",
       "40            673.32            185.61         213.96             50.06   \n",
       "41            423.27            638.74         246.18            192.45   \n",
       "42            499.81            276.71         214.92             76.34   \n",
       "43            162.00            309.00         227.05            101.09   \n",
       "44            576.19            269.21         174.35             62.80   \n",
       "\n",
       "    CD45+ (cells/ul)  Age  Sex 0M1F  Mono CD64+MFI (cells/ul)  label  \n",
       "30           1547.02   49         1                    1947.0      0  \n",
       "31            394.64   41         0                    1651.0      0  \n",
       "32           2282.03   35         0                    1365.0      0  \n",
       "33            475.57   44         1                    3190.0      1  \n",
       "34           1619.77   41         1                    1893.0      0  \n",
       "35            504.15   49         0                    2175.0      1  \n",
       "36           1179.27   42         0                    1794.0      0  \n",
       "37            439.84   37         1                    1527.0      1  \n",
       "38            702.08   56         1                    5501.0      1  \n",
       "39           1615.68   21         0                       NaN      0  \n",
       "40           1129.59   47         0                    1953.0      0  \n",
       "41           1519.28   33         0                    1686.0      0  \n",
       "42           1071.42   49         1                    1566.0      0  \n",
       "43            817.24   39         0                    4480.0      0  \n",
       "44           1082.11   29         1                    1830.0      0  "
      ]
     },
     "execution_count": 9,
     "metadata": {},
     "output_type": "execute_result"
    }
   ],
   "source": [
    "df = pd.read_csv(\"train.csv\")\n",
    "df[30:45]"
   ]
  },
  {
   "cell_type": "code",
   "execution_count": 10,
   "metadata": {},
   "outputs": [],
   "source": [
    "df2 = df.dropna()"
   ]
  },
  {
   "cell_type": "code",
   "execution_count": 11,
   "metadata": {},
   "outputs": [
    {
     "data": {
      "text/plain": [
       "(86, 13)"
      ]
     },
     "execution_count": 11,
     "metadata": {},
     "output_type": "execute_result"
    }
   ],
   "source": [
    "df2.shape"
   ]
  },
  {
   "cell_type": "code",
   "execution_count": 12,
   "metadata": {},
   "outputs": [
    {
     "data": {
      "text/plain": [
       "(87, 13)"
      ]
     },
     "execution_count": 12,
     "metadata": {},
     "output_type": "execute_result"
    }
   ],
   "source": [
    "df.shape"
   ]
  },
  {
   "cell_type": "code",
   "execution_count": 14,
   "metadata": {},
   "outputs": [],
   "source": [
    "X=df2[['MO HLADR+ MFI (cells/ul)', 'Neu CD64+MFI (cells/ul)',\n",
    "       'CD3+T (cells/ul)', 'CD8+T (cells/ul)', 'CD4+T (cells/ul)',\n",
    "       'NK (cells/ul)', 'CD19+ (cells/ul)', 'CD45+ (cells/ul)','Mono CD64+MFI (cells/ul)']]\n",
    "Y = df2['label'] "
   ]
  },
  {
   "cell_type": "code",
   "execution_count": 13,
   "metadata": {},
   "outputs": [
    {
     "data": {
      "text/plain": [
       "Index(['id', 'MO HLADR+ MFI (cells/ul)', 'Neu CD64+MFI (cells/ul)',\n",
       "       'CD3+T (cells/ul)', 'CD8+T (cells/ul)', 'CD4+T (cells/ul)',\n",
       "       'NK (cells/ul)', 'CD19+ (cells/ul)', 'CD45+ (cells/ul)', 'Age',\n",
       "       'Sex 0M1F', 'Mono CD64+MFI (cells/ul)', 'label'],\n",
       "      dtype='object')"
      ]
     },
     "execution_count": 13,
     "metadata": {},
     "output_type": "execute_result"
    }
   ],
   "source": [
    "df2.columns"
   ]
  },
  {
   "cell_type": "code",
   "execution_count": 15,
   "metadata": {},
   "outputs": [],
   "source": [
    "from sklearn.model_selection import train_test_split"
   ]
  },
  {
   "cell_type": "code",
   "execution_count": 17,
   "metadata": {},
   "outputs": [],
   "source": [
    "y = Y"
   ]
  },
  {
   "cell_type": "code",
   "execution_count": 18,
   "metadata": {},
   "outputs": [],
   "source": [
    "X_train, X_test, y_train, y_test = train_test_split(X, y, test_size=0.2)"
   ]
  },
  {
   "cell_type": "code",
   "execution_count": 19,
   "metadata": {},
   "outputs": [],
   "source": [
    "from sklearn.ensemble import RandomForestClassifier\n",
    "clf=RandomForestClassifier(n_estimators=100)"
   ]
  },
  {
   "cell_type": "code",
   "execution_count": 33,
   "metadata": {},
   "outputs": [],
   "source": [
    "clf2 = RandomForestClassifier(n_estimators=50)"
   ]
  },
  {
   "cell_type": "code",
   "execution_count": 20,
   "metadata": {},
   "outputs": [
    {
     "data": {
      "text/plain": [
       "RandomForestClassifier()"
      ]
     },
     "execution_count": 20,
     "metadata": {},
     "output_type": "execute_result"
    }
   ],
   "source": [
    "clf.fit(X_train,y_train)"
   ]
  },
  {
   "cell_type": "code",
   "execution_count": 34,
   "metadata": {},
   "outputs": [
    {
     "data": {
      "text/plain": [
       "RandomForestClassifier(n_estimators=50)"
      ]
     },
     "execution_count": 34,
     "metadata": {},
     "output_type": "execute_result"
    }
   ],
   "source": [
    "clf2.fit(X_train,y_train)"
   ]
  },
  {
   "cell_type": "code",
   "execution_count": 35,
   "metadata": {},
   "outputs": [],
   "source": [
    "y_pred=clf2.predict(X_test)"
   ]
  },
  {
   "cell_type": "code",
   "execution_count": 36,
   "metadata": {},
   "outputs": [
    {
     "name": "stdout",
     "output_type": "stream",
     "text": [
      "Accuracy: 0.8888888888888888\n"
     ]
    }
   ],
   "source": [
    "from sklearn import metrics\n",
    "print(\"Accuracy:\",metrics.accuracy_score(y_test, y_pred))"
   ]
  },
  {
   "cell_type": "code",
   "execution_count": 37,
   "metadata": {},
   "outputs": [
    {
     "data": {
      "text/plain": [
       "67    1\n",
       "84    1\n",
       "26    1\n",
       "85    1\n",
       "16    0\n",
       "72    0\n",
       "58    0\n",
       "5     1\n",
       "15    0\n",
       "69    0\n",
       "63    0\n",
       "50    0\n",
       "8     0\n",
       "41    0\n",
       "37    1\n",
       "32    0\n",
       "76    1\n",
       "11    0\n",
       "Name: label, dtype: int64"
      ]
     },
     "execution_count": 37,
     "metadata": {},
     "output_type": "execute_result"
    }
   ],
   "source": [
    "y_test"
   ]
  },
  {
   "cell_type": "code",
   "execution_count": 38,
   "metadata": {},
   "outputs": [
    {
     "data": {
      "text/plain": [
       "array([1, 1, 0, 1, 0, 0, 0, 0, 0, 0, 0, 0, 0, 0, 1, 0, 1, 0])"
      ]
     },
     "execution_count": 38,
     "metadata": {},
     "output_type": "execute_result"
    }
   ],
   "source": [
    "y_pred"
   ]
  },
  {
   "cell_type": "code",
   "execution_count": 39,
   "metadata": {},
   "outputs": [],
   "source": [
    "X2=df2[['MO HLADR+ MFI (cells/ul)', 'Neu CD64+MFI (cells/ul)',\n",
    "       'CD3+T (cells/ul)', 'CD8+T (cells/ul)', 'CD4+T (cells/ul)',\n",
    "       'NK (cells/ul)', 'CD19+ (cells/ul)', 'CD45+ (cells/ul)','Mono CD64+MFI (cells/ul)','Age',\n",
    "       'Sex 0M1F']]"
   ]
  },
  {
   "cell_type": "code",
   "execution_count": 40,
   "metadata": {},
   "outputs": [],
   "source": [
    "X2_train, X2_test, y2_train, y2_test = train_test_split(X2, y, test_size=0.2)"
   ]
  },
  {
   "cell_type": "code",
   "execution_count": 46,
   "metadata": {},
   "outputs": [],
   "source": [
    "clf3 = RandomForestClassifier(n_estimators=100)"
   ]
  },
  {
   "cell_type": "code",
   "execution_count": 47,
   "metadata": {},
   "outputs": [
    {
     "data": {
      "text/plain": [
       "RandomForestClassifier()"
      ]
     },
     "execution_count": 47,
     "metadata": {},
     "output_type": "execute_result"
    }
   ],
   "source": [
    "clf3.fit(X2_train,y2_train)"
   ]
  },
  {
   "cell_type": "code",
   "execution_count": 48,
   "metadata": {},
   "outputs": [],
   "source": [
    "y2_pred=clf3.predict(X2_test)"
   ]
  },
  {
   "cell_type": "code",
   "execution_count": 50,
   "metadata": {},
   "outputs": [
    {
     "name": "stdout",
     "output_type": "stream",
     "text": [
      "Accuracy: 0.8333333333333334\n"
     ]
    }
   ],
   "source": [
    "print(\"Accuracy:\",metrics.accuracy_score(y2_test, y2_pred))"
   ]
  },
  {
   "cell_type": "code",
   "execution_count": 53,
   "metadata": {},
   "outputs": [],
   "source": [
    "y3_predict = clf2.predict(X2_test.iloc[:,:-2])"
   ]
  },
  {
   "cell_type": "code",
   "execution_count": 54,
   "metadata": {},
   "outputs": [
    {
     "name": "stdout",
     "output_type": "stream",
     "text": [
      "Accuracy: 1.0\n"
     ]
    }
   ],
   "source": [
    "print(\"Accuracy:\",metrics.accuracy_score(y2_test, y3_predict))"
   ]
  },
  {
   "cell_type": "code",
   "execution_count": 55,
   "metadata": {},
   "outputs": [
    {
     "data": {
      "text/plain": [
       "51    0\n",
       "43    0\n",
       "80    0\n",
       "37    1\n",
       "46    0\n",
       "31    0\n",
       "57    1\n",
       "4     0\n",
       "16    0\n",
       "49    1\n",
       "35    1\n",
       "34    0\n",
       "6     0\n",
       "36    0\n",
       "48    0\n",
       "19    1\n",
       "15    0\n",
       "17    1\n",
       "Name: label, dtype: int64"
      ]
     },
     "execution_count": 55,
     "metadata": {},
     "output_type": "execute_result"
    }
   ],
   "source": [
    "y2_test"
   ]
  },
  {
   "cell_type": "code",
   "execution_count": 56,
   "metadata": {},
   "outputs": [
    {
     "data": {
      "text/plain": [
       "array([0, 0, 0, 1, 0, 0, 1, 0, 0, 1, 1, 0, 0, 0, 0, 1, 0, 1])"
      ]
     },
     "execution_count": 56,
     "metadata": {},
     "output_type": "execute_result"
    }
   ],
   "source": [
    "y3_predict"
   ]
  },
  {
   "cell_type": "code",
   "execution_count": 57,
   "metadata": {},
   "outputs": [
    {
     "data": {
      "text/plain": [
       "array([0, 0, 0, 1, 0, 1, 1, 0, 0, 1, 1, 0, 0, 0, 1, 1, 0, 0])"
      ]
     },
     "execution_count": 57,
     "metadata": {},
     "output_type": "execute_result"
    }
   ],
   "source": [
    "y2_pred"
   ]
  },
  {
   "cell_type": "code",
   "execution_count": 60,
   "metadata": {},
   "outputs": [],
   "source": [
    "import xgboost as xgb\n",
    "from sklearn.metrics import mean_squared_error"
   ]
  },
  {
   "cell_type": "code",
   "execution_count": 66,
   "metadata": {},
   "outputs": [],
   "source": [
    "xg_reg = xgb.XGBRegressor(objective ='reg:squarederror', n_estimators = 50)"
   ]
  },
  {
   "cell_type": "code",
   "execution_count": 67,
   "metadata": {},
   "outputs": [
    {
     "data": {
      "text/plain": [
       "XGBRegressor(base_score=0.5, booster='gbtree', colsample_bylevel=1,\n",
       "             colsample_bynode=1, colsample_bytree=1, enable_categorical=False,\n",
       "             gamma=0, gpu_id=-1, importance_type=None,\n",
       "             interaction_constraints='', learning_rate=0.300000012,\n",
       "             max_delta_step=0, max_depth=6, min_child_weight=1, missing=nan,\n",
       "             monotone_constraints='()', n_estimators=50, n_jobs=8,\n",
       "             num_parallel_tree=1, predictor='auto', random_state=0, reg_alpha=0,\n",
       "             reg_lambda=1, scale_pos_weight=1, subsample=1, tree_method='exact',\n",
       "             validate_parameters=1, verbosity=None)"
      ]
     },
     "execution_count": 67,
     "metadata": {},
     "output_type": "execute_result"
    }
   ],
   "source": [
    "xg_reg.fit(X_train,y_train)"
   ]
  },
  {
   "cell_type": "code",
   "execution_count": 68,
   "metadata": {},
   "outputs": [],
   "source": [
    "preds = xg_reg.predict(X_test)"
   ]
  },
  {
   "cell_type": "code",
   "execution_count": 71,
   "metadata": {},
   "outputs": [
    {
     "data": {
      "text/plain": [
       "array([ True,  True, False,  True, False, False, False, False, False,\n",
       "       False, False, False, False, False,  True, False,  True, False])"
      ]
     },
     "execution_count": 71,
     "metadata": {},
     "output_type": "execute_result"
    }
   ],
   "source": []
  },
  {
   "cell_type": "code",
   "execution_count": 70,
   "metadata": {},
   "outputs": [
    {
     "data": {
      "text/plain": [
       "array([1, 1, 0, 1, 0, 0, 0, 0, 0, 0, 0, 0, 0, 0, 1, 0, 1, 0])"
      ]
     },
     "execution_count": 70,
     "metadata": {},
     "output_type": "execute_result"
    }
   ],
   "source": [
    "y_pred"
   ]
  },
  {
   "cell_type": "code",
   "execution_count": 73,
   "metadata": {},
   "outputs": [
    {
     "data": {
      "text/plain": [
       "array([1, 1, 0, 1, 0, 0, 0, 0, 0, 0, 0, 0, 0, 0, 1, 0, 1, 0])"
      ]
     },
     "execution_count": 73,
     "metadata": {},
     "output_type": "execute_result"
    }
   ],
   "source": [
    "1*(preds>0.5)"
   ]
  },
  {
   "cell_type": "code",
   "execution_count": 74,
   "metadata": {},
   "outputs": [
    {
     "name": "stdout",
     "output_type": "stream",
     "text": [
      "Accuracy: 1.0\n"
     ]
    }
   ],
   "source": [
    "print(\"Accuracy:\",metrics.accuracy_score(1*(preds>0.5), y_pred))"
   ]
  },
  {
   "cell_type": "code",
   "execution_count": 78,
   "metadata": {},
   "outputs": [
    {
     "name": "stdout",
     "output_type": "stream",
     "text": [
      "Accuracy: 1.0\n"
     ]
    }
   ],
   "source": [
    "print(\"Accuracy:\",metrics.accuracy_score(1*(xg_reg.predict(X2_test.iloc[:,:-2])>0.5),y2_test))"
   ]
  },
  {
   "cell_type": "code",
   "execution_count": 77,
   "metadata": {},
   "outputs": [
    {
     "data": {
      "text/plain": [
       "array([ 6.24834327e-04, -6.77841817e-05, -3.16255988e-04,  1.00044239e+00,\n",
       "       -1.74376240e-04,  1.45053677e-03,  1.00006187e+00, -2.93048797e-04,\n",
       "       -1.54525542e-03,  9.99666095e-01,  9.99658048e-01,  4.09163331e-04,\n",
       "        2.52099562e-04,  2.52099562e-04,  3.97071672e-05,  1.00054073e+00,\n",
       "       -1.20046055e-02,  9.98727024e-01], dtype=float32)"
      ]
     },
     "execution_count": 77,
     "metadata": {},
     "output_type": "execute_result"
    }
   ],
   "source": [
    "(xg_reg.predict(X2_test.iloc[:,:-2])>0.5)"
   ]
  },
  {
   "cell_type": "code",
   "execution_count": null,
   "metadata": {},
   "outputs": [],
   "source": []
  }
 ],
 "metadata": {
  "kernelspec": {
   "display_name": "Python 3",
   "language": "python",
   "name": "python3"
  },
  "language_info": {
   "codemirror_mode": {
    "name": "ipython",
    "version": 3
   },
   "file_extension": ".py",
   "mimetype": "text/x-python",
   "name": "python",
   "nbconvert_exporter": "python",
   "pygments_lexer": "ipython3",
   "version": "3.7.7"
  }
 },
 "nbformat": 4,
 "nbformat_minor": 4
}
