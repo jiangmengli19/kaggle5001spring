{
 "cells": [
  {
   "cell_type": "code",
   "execution_count": 1,
   "metadata": {},
   "outputs": [],
   "source": [
    "import numpy as np\n",
    "import pandas as pd"
   ]
  },
  {
   "cell_type": "code",
   "execution_count": 2,
   "metadata": {},
   "outputs": [],
   "source": [
    "df = pd.read_csv(\"train.csv\")"
   ]
  },
  {
   "cell_type": "code",
   "execution_count": 3,
   "metadata": {},
   "outputs": [],
   "source": [
    "df2 = df.dropna()"
   ]
  },
  {
   "cell_type": "code",
   "execution_count": 4,
   "metadata": {},
   "outputs": [],
   "source": [
    "X=df2[['MO HLADR+ MFI (cells/ul)', 'Neu CD64+MFI (cells/ul)',\n",
    "       'CD3+T (cells/ul)', 'CD8+T (cells/ul)', 'CD4+T (cells/ul)',\n",
    "       'NK (cells/ul)', 'CD19+ (cells/ul)', 'CD45+ (cells/ul)','Mono CD64+MFI (cells/ul)']]\n",
    "Y = df2['label'] "
   ]
  },
  {
   "cell_type": "code",
   "execution_count": 5,
   "metadata": {},
   "outputs": [],
   "source": [
    "from sklearn.model_selection import KFold"
   ]
  },
  {
   "cell_type": "code",
   "execution_count": 6,
   "metadata": {},
   "outputs": [],
   "source": [
    "import xgboost as xgb\n",
    "from sklearn.metrics import mean_squared_error"
   ]
  },
  {
   "cell_type": "code",
   "execution_count": 9,
   "metadata": {},
   "outputs": [],
   "source": [
    "from sklearn import metrics"
   ]
  },
  {
   "cell_type": "code",
   "execution_count": 49,
   "metadata": {},
   "outputs": [],
   "source": [
    "xg_reg = xgb.XGBRegressor(objective ='reg:squarederror', n_estimators = 50)"
   ]
  },
  {
   "cell_type": "code",
   "execution_count": 41,
   "metadata": {},
   "outputs": [],
   "source": [
    "from sklearn.model_selection import RandomizedSearchCV"
   ]
  },
  {
   "cell_type": "code",
   "execution_count": 42,
   "metadata": {},
   "outputs": [],
   "source": [
    "from sklearn.model_selection import train_test_split"
   ]
  },
  {
   "cell_type": "code",
   "execution_count": 76,
   "metadata": {},
   "outputs": [],
   "source": [
    "np.random.seed(10)\n",
    "X_train, X_test, y_train, y_test = train_test_split(X, Y, test_size=0.1)"
   ]
  },
  {
   "cell_type": "code",
   "execution_count": 50,
   "metadata": {},
   "outputs": [
    {
     "data": {
      "text/plain": [
       "XGBRegressor(base_score=0.5, booster='gbtree', colsample_bylevel=1,\n",
       "             colsample_bynode=1, colsample_bytree=1, enable_categorical=False,\n",
       "             gamma=0, gpu_id=-1, importance_type=None,\n",
       "             interaction_constraints='', learning_rate=0.300000012,\n",
       "             max_delta_step=0, max_depth=6, min_child_weight=1, missing=nan,\n",
       "             monotone_constraints='()', n_estimators=50, n_jobs=8,\n",
       "             num_parallel_tree=1, predictor='auto', random_state=0, reg_alpha=0,\n",
       "             reg_lambda=1, scale_pos_weight=1, subsample=1, tree_method='exact',\n",
       "             validate_parameters=1, verbosity=None)"
      ]
     },
     "execution_count": 50,
     "metadata": {},
     "output_type": "execute_result"
    }
   ],
   "source": [
    "xg_reg.fit(X_train,y_train)"
   ]
  },
  {
   "cell_type": "code",
   "execution_count": 51,
   "metadata": {},
   "outputs": [
    {
     "data": {
      "text/plain": [
       "array([ 9.9887800e-01,  1.4441020e-02,  1.7620860e-02,  1.6775353e-01,\n",
       "        1.0599345e-03,  3.6810359e-01,  9.9928528e-01,  6.9519654e-03,\n",
       "       -1.0630892e-02, -2.5228050e-03,  2.3441793e-02,  4.1257164e-01,\n",
       "        1.0005049e+00,  5.3713012e-01,  1.6930489e-02, -3.4233194e-03,\n",
       "       -1.3817761e-04,  1.0008680e+00], dtype=float32)"
      ]
     },
     "execution_count": 51,
     "metadata": {},
     "output_type": "execute_result"
    }
   ],
   "source": [
    "xg_reg.predict(X_test)"
   ]
  },
  {
   "cell_type": "code",
   "execution_count": 52,
   "metadata": {},
   "outputs": [
    {
     "data": {
      "text/plain": [
       "14    1\n",
       "3     0\n",
       "34    0\n",
       "21    1\n",
       "46    0\n",
       "35    1\n",
       "57    1\n",
       "61    0\n",
       "70    0\n",
       "73    0\n",
       "79    1\n",
       "59    0\n",
       "38    1\n",
       "48    0\n",
       "69    0\n",
       "43    0\n",
       "6     0\n",
       "19    1\n",
       "Name: label, dtype: int64"
      ]
     },
     "execution_count": 52,
     "metadata": {},
     "output_type": "execute_result"
    }
   ],
   "source": [
    "y_test"
   ]
  },
  {
   "cell_type": "code",
   "execution_count": 53,
   "metadata": {},
   "outputs": [],
   "source": [
    "preds = xg_reg.predict(X_test)"
   ]
  },
  {
   "cell_type": "code",
   "execution_count": 54,
   "metadata": {},
   "outputs": [
    {
     "name": "stdout",
     "output_type": "stream",
     "text": [
      "Accuracy: 0.7777777777777778\n"
     ]
    }
   ],
   "source": [
    "print(\"Accuracy:\",metrics.accuracy_score(1*(preds>0.5),y_test))"
   ]
  },
  {
   "cell_type": "code",
   "execution_count": 88,
   "metadata": {},
   "outputs": [],
   "source": [
    "xg_cls = xgb.XGBClassifier(objective ='binary:logistic', n_estimators = 50)"
   ]
  },
  {
   "cell_type": "code",
   "execution_count": 78,
   "metadata": {},
   "outputs": [
    {
     "name": "stdout",
     "output_type": "stream",
     "text": [
      "[18:15:07] WARNING: /Users/runner/work/xgboost/xgboost/src/learner.cc:1115: Starting in XGBoost 1.3.0, the default evaluation metric used with the objective 'binary:logistic' was changed from 'error' to 'logloss'. Explicitly set eval_metric if you'd like to restore the old behavior.\n"
     ]
    },
    {
     "name": "stderr",
     "output_type": "stream",
     "text": [
      "/Users/lijiangmeng/opt/anaconda3/lib/python3.7/site-packages/xgboost/sklearn.py:1224: UserWarning: The use of label encoder in XGBClassifier is deprecated and will be removed in a future release. To remove this warning, do the following: 1) Pass option use_label_encoder=False when constructing XGBClassifier object; and 2) Encode your labels (y) as integers starting with 0, i.e. 0, 1, 2, ..., [num_class - 1].\n",
      "  warnings.warn(label_encoder_deprecation_msg, UserWarning)\n"
     ]
    },
    {
     "data": {
      "text/plain": [
       "XGBClassifier(base_score=0.5, booster='gbtree', colsample_bylevel=1,\n",
       "              colsample_bynode=1, colsample_bytree=1, enable_categorical=False,\n",
       "              gamma=0, gpu_id=-1, importance_type=None,\n",
       "              interaction_constraints='', learning_rate=0.300000012,\n",
       "              max_delta_step=0, max_depth=6, min_child_weight=1, missing=nan,\n",
       "              monotone_constraints='()', n_estimators=50, n_jobs=8,\n",
       "              num_parallel_tree=1, predictor='auto', random_state=0,\n",
       "              reg_alpha=0, reg_lambda=1, scale_pos_weight=1, subsample=1,\n",
       "              tree_method='exact', validate_parameters=1, verbosity=None)"
      ]
     },
     "execution_count": 78,
     "metadata": {},
     "output_type": "execute_result"
    }
   ],
   "source": [
    "xg_cls.fit(X_train,y_train)"
   ]
  },
  {
   "cell_type": "code",
   "execution_count": 79,
   "metadata": {},
   "outputs": [
    {
     "data": {
      "text/plain": [
       "array([1, 0, 0, 1, 0, 0, 1, 0, 0])"
      ]
     },
     "execution_count": 79,
     "metadata": {},
     "output_type": "execute_result"
    }
   ],
   "source": [
    "xg_cls.predict(X_test)"
   ]
  },
  {
   "cell_type": "code",
   "execution_count": 80,
   "metadata": {},
   "outputs": [
    {
     "name": "stdout",
     "output_type": "stream",
     "text": [
      "Accuracy: 0.8888888888888888\n"
     ]
    }
   ],
   "source": [
    "print(\"Accuracy:\",metrics.accuracy_score(xg_cls.predict(X_test),y_test))"
   ]
  },
  {
   "cell_type": "code",
   "execution_count": 112,
   "metadata": {},
   "outputs": [],
   "source": [
    "from sklearn.ensemble import RandomForestClassifier\n",
    "clf=RandomForestClassifier(n_estimators=50)"
   ]
  },
  {
   "cell_type": "code",
   "execution_count": 82,
   "metadata": {},
   "outputs": [
    {
     "data": {
      "text/plain": [
       "RandomForestClassifier(n_estimators=50)"
      ]
     },
     "execution_count": 82,
     "metadata": {},
     "output_type": "execute_result"
    }
   ],
   "source": [
    "clf.fit(X_train,y_train)"
   ]
  },
  {
   "cell_type": "code",
   "execution_count": 83,
   "metadata": {},
   "outputs": [
    {
     "name": "stdout",
     "output_type": "stream",
     "text": [
      "Accuracy: 0.8888888888888888\n"
     ]
    }
   ],
   "source": [
    "print(\"Accuracy:\",metrics.accuracy_score(clf.predict(X_test), y_test))"
   ]
  },
  {
   "cell_type": "code",
   "execution_count": 74,
   "metadata": {},
   "outputs": [
    {
     "data": {
      "text/plain": [
       "array([1, 0, 0, 1, 0, 1, 1, 0, 0, 0, 0, 0, 1, 1, 0, 0, 0, 1])"
      ]
     },
     "execution_count": 74,
     "metadata": {},
     "output_type": "execute_result"
    }
   ],
   "source": [
    "clf.predict(X_test)"
   ]
  },
  {
   "cell_type": "code",
   "execution_count": 75,
   "metadata": {},
   "outputs": [
    {
     "name": "stdout",
     "output_type": "stream",
     "text": [
      "Accuracy: 0.8888888888888888\n"
     ]
    }
   ],
   "source": [
    "print(\"Accuracy:\",metrics.accuracy_score(clf.predict(X_test), xg_cls.predict(X_test)))"
   ]
  },
  {
   "cell_type": "code",
   "execution_count": 84,
   "metadata": {},
   "outputs": [
    {
     "data": {
      "text/plain": [
       "array([1, 0, 0, 1, 0, 0, 1, 0, 0])"
      ]
     },
     "execution_count": 84,
     "metadata": {},
     "output_type": "execute_result"
    }
   ],
   "source": [
    "clf.predict(X_test)"
   ]
  },
  {
   "cell_type": "code",
   "execution_count": 85,
   "metadata": {},
   "outputs": [
    {
     "data": {
      "text/plain": [
       "14    1\n",
       "3     0\n",
       "34    0\n",
       "21    1\n",
       "46    0\n",
       "35    1\n",
       "57    1\n",
       "61    0\n",
       "70    0\n",
       "Name: label, dtype: int64"
      ]
     },
     "execution_count": 85,
     "metadata": {},
     "output_type": "execute_result"
    }
   ],
   "source": [
    "y_test"
   ]
  },
  {
   "cell_type": "code",
   "execution_count": 90,
   "metadata": {},
   "outputs": [
    {
     "name": "stdout",
     "output_type": "stream",
     "text": [
      "[18:22:17] WARNING: /Users/runner/work/xgboost/xgboost/src/learner.cc:1115: Starting in XGBoost 1.3.0, the default evaluation metric used with the objective 'binary:logistic' was changed from 'error' to 'logloss'. Explicitly set eval_metric if you'd like to restore the old behavior.\n"
     ]
    },
    {
     "name": "stderr",
     "output_type": "stream",
     "text": [
      "/Users/lijiangmeng/opt/anaconda3/lib/python3.7/site-packages/xgboost/sklearn.py:1224: UserWarning: The use of label encoder in XGBClassifier is deprecated and will be removed in a future release. To remove this warning, do the following: 1) Pass option use_label_encoder=False when constructing XGBClassifier object; and 2) Encode your labels (y) as integers starting with 0, i.e. 0, 1, 2, ..., [num_class - 1].\n",
      "  warnings.warn(label_encoder_deprecation_msg, UserWarning)\n"
     ]
    },
    {
     "data": {
      "text/plain": [
       "XGBClassifier(base_score=0.5, booster='gbtree', colsample_bylevel=1,\n",
       "              colsample_bynode=1, colsample_bytree=1, enable_categorical=False,\n",
       "              gamma=0, gpu_id=-1, importance_type=None,\n",
       "              interaction_constraints='', learning_rate=0.300000012,\n",
       "              max_delta_step=0, max_depth=6, min_child_weight=1, missing=nan,\n",
       "              monotone_constraints='()', n_estimators=50, n_jobs=8,\n",
       "              num_parallel_tree=1, predictor='auto', random_state=0,\n",
       "              reg_alpha=0, reg_lambda=1, scale_pos_weight=1, subsample=1,\n",
       "              tree_method='exact', validate_parameters=1, verbosity=None)"
      ]
     },
     "execution_count": 90,
     "metadata": {},
     "output_type": "execute_result"
    }
   ],
   "source": [
    "xg_cls.fit(X,Y)"
   ]
  },
  {
   "cell_type": "code",
   "execution_count": 113,
   "metadata": {},
   "outputs": [
    {
     "data": {
      "text/plain": [
       "RandomForestClassifier(n_estimators=50)"
      ]
     },
     "execution_count": 113,
     "metadata": {},
     "output_type": "execute_result"
    }
   ],
   "source": [
    "clf.fit(X,Y)"
   ]
  },
  {
   "cell_type": "code",
   "execution_count": 91,
   "metadata": {},
   "outputs": [],
   "source": [
    "df3 = pd.read_csv(\"test.csv\")"
   ]
  },
  {
   "cell_type": "code",
   "execution_count": 101,
   "metadata": {},
   "outputs": [
    {
     "data": {
      "text/html": [
       "<div>\n",
       "<style scoped>\n",
       "    .dataframe tbody tr th:only-of-type {\n",
       "        vertical-align: middle;\n",
       "    }\n",
       "\n",
       "    .dataframe tbody tr th {\n",
       "        vertical-align: top;\n",
       "    }\n",
       "\n",
       "    .dataframe thead th {\n",
       "        text-align: right;\n",
       "    }\n",
       "</style>\n",
       "<table border=\"1\" class=\"dataframe\">\n",
       "  <thead>\n",
       "    <tr style=\"text-align: right;\">\n",
       "      <th></th>\n",
       "      <th>id</th>\n",
       "      <th>MO HLADR+ MFI (cells/ul)</th>\n",
       "      <th>Neu CD64+MFI (cells/ul)</th>\n",
       "      <th>CD3+T (cells/ul)</th>\n",
       "      <th>CD8+T (cells/ul)</th>\n",
       "      <th>CD4+T (cells/ul)</th>\n",
       "      <th>NK (cells/ul)</th>\n",
       "      <th>CD19+ (cells/ul)</th>\n",
       "      <th>CD45+ (cells/ul)</th>\n",
       "      <th>Age</th>\n",
       "      <th>Sex 0M1F</th>\n",
       "      <th>Mono CD64+MFI (cells/ul)</th>\n",
       "    </tr>\n",
       "  </thead>\n",
       "  <tbody>\n",
       "    <tr>\n",
       "      <th>40</th>\n",
       "      <td>40</td>\n",
       "      <td>1784.0</td>\n",
       "      <td>474.0</td>\n",
       "      <td>337.75</td>\n",
       "      <td>133.11</td>\n",
       "      <td>204.64</td>\n",
       "      <td>25.50</td>\n",
       "      <td>16.00</td>\n",
       "      <td>379.25</td>\n",
       "      <td>42</td>\n",
       "      <td>0</td>\n",
       "      <td>6788.0</td>\n",
       "    </tr>\n",
       "    <tr>\n",
       "      <th>41</th>\n",
       "      <td>41</td>\n",
       "      <td>676.0</td>\n",
       "      <td>64.0</td>\n",
       "      <td>622.25</td>\n",
       "      <td>345.00</td>\n",
       "      <td>221.00</td>\n",
       "      <td>50.60</td>\n",
       "      <td>56.04</td>\n",
       "      <td>731.13</td>\n",
       "      <td>29</td>\n",
       "      <td>0</td>\n",
       "      <td>1660.0</td>\n",
       "    </tr>\n",
       "    <tr>\n",
       "      <th>42</th>\n",
       "      <td>42</td>\n",
       "      <td>629.0</td>\n",
       "      <td>76.0</td>\n",
       "      <td>427.06</td>\n",
       "      <td>240.16</td>\n",
       "      <td>138.57</td>\n",
       "      <td>83.83</td>\n",
       "      <td>2.96</td>\n",
       "      <td>525.20</td>\n",
       "      <td>42</td>\n",
       "      <td>0</td>\n",
       "      <td>1391.0</td>\n",
       "    </tr>\n",
       "    <tr>\n",
       "      <th>43</th>\n",
       "      <td>43</td>\n",
       "      <td>721.0</td>\n",
       "      <td>117.0</td>\n",
       "      <td>983.00</td>\n",
       "      <td>449.00</td>\n",
       "      <td>539.00</td>\n",
       "      <td>141.00</td>\n",
       "      <td>76.00</td>\n",
       "      <td>1200.00</td>\n",
       "      <td>37</td>\n",
       "      <td>0</td>\n",
       "      <td>2771.0</td>\n",
       "    </tr>\n",
       "    <tr>\n",
       "      <th>44</th>\n",
       "      <td>44</td>\n",
       "      <td>1733.0</td>\n",
       "      <td>134.0</td>\n",
       "      <td>1443.62</td>\n",
       "      <td>770.62</td>\n",
       "      <td>613.22</td>\n",
       "      <td>85.40</td>\n",
       "      <td>227.47</td>\n",
       "      <td>1760.90</td>\n",
       "      <td>42</td>\n",
       "      <td>1</td>\n",
       "      <td>1501.0</td>\n",
       "    </tr>\n",
       "    <tr>\n",
       "      <th>45</th>\n",
       "      <td>45</td>\n",
       "      <td>1546.0</td>\n",
       "      <td>184.0</td>\n",
       "      <td>832.08</td>\n",
       "      <td>621.01</td>\n",
       "      <td>210.58</td>\n",
       "      <td>141.36</td>\n",
       "      <td>63.86</td>\n",
       "      <td>1043.63</td>\n",
       "      <td>51</td>\n",
       "      <td>0</td>\n",
       "      <td>2281.0</td>\n",
       "    </tr>\n",
       "    <tr>\n",
       "      <th>46</th>\n",
       "      <td>46</td>\n",
       "      <td>838.0</td>\n",
       "      <td>226.0</td>\n",
       "      <td>1025.32</td>\n",
       "      <td>728.71</td>\n",
       "      <td>296.61</td>\n",
       "      <td>187.36</td>\n",
       "      <td>135.49</td>\n",
       "      <td>1358.55</td>\n",
       "      <td>38</td>\n",
       "      <td>1</td>\n",
       "      <td>1662.0</td>\n",
       "    </tr>\n",
       "    <tr>\n",
       "      <th>47</th>\n",
       "      <td>47</td>\n",
       "      <td>740.0</td>\n",
       "      <td>187.0</td>\n",
       "      <td>530.77</td>\n",
       "      <td>154.69</td>\n",
       "      <td>377.34</td>\n",
       "      <td>40.07</td>\n",
       "      <td>45.14</td>\n",
       "      <td>618.76</td>\n",
       "      <td>31</td>\n",
       "      <td>0</td>\n",
       "      <td>2617.0</td>\n",
       "    </tr>\n",
       "    <tr>\n",
       "      <th>48</th>\n",
       "      <td>48</td>\n",
       "      <td>494.0</td>\n",
       "      <td>61.0</td>\n",
       "      <td>1568.54</td>\n",
       "      <td>937.00</td>\n",
       "      <td>601.00</td>\n",
       "      <td>246.48</td>\n",
       "      <td>165.92</td>\n",
       "      <td>1983.61</td>\n",
       "      <td>38</td>\n",
       "      <td>0</td>\n",
       "      <td>1923.0</td>\n",
       "    </tr>\n",
       "    <tr>\n",
       "      <th>49</th>\n",
       "      <td>49</td>\n",
       "      <td>1700.0</td>\n",
       "      <td>71.0</td>\n",
       "      <td>1106.54</td>\n",
       "      <td>503.71</td>\n",
       "      <td>547.54</td>\n",
       "      <td>363.45</td>\n",
       "      <td>176.67</td>\n",
       "      <td>1650.03</td>\n",
       "      <td>48</td>\n",
       "      <td>0</td>\n",
       "      <td>1617.0</td>\n",
       "    </tr>\n",
       "    <tr>\n",
       "      <th>50</th>\n",
       "      <td>50</td>\n",
       "      <td>1175.0</td>\n",
       "      <td>60.0</td>\n",
       "      <td>847.11</td>\n",
       "      <td>362.52</td>\n",
       "      <td>486.42</td>\n",
       "      <td>512.66</td>\n",
       "      <td>116.57</td>\n",
       "      <td>1486.10</td>\n",
       "      <td>47</td>\n",
       "      <td>0</td>\n",
       "      <td>2013.0</td>\n",
       "    </tr>\n",
       "    <tr>\n",
       "      <th>51</th>\n",
       "      <td>51</td>\n",
       "      <td>1956.0</td>\n",
       "      <td>152.0</td>\n",
       "      <td>1786.48</td>\n",
       "      <td>783.82</td>\n",
       "      <td>952.42</td>\n",
       "      <td>194.75</td>\n",
       "      <td>198.19</td>\n",
       "      <td>2188.36</td>\n",
       "      <td>40</td>\n",
       "      <td>1</td>\n",
       "      <td>2251.0</td>\n",
       "    </tr>\n",
       "    <tr>\n",
       "      <th>52</th>\n",
       "      <td>52</td>\n",
       "      <td>1122.0</td>\n",
       "      <td>66.0</td>\n",
       "      <td>1955.03</td>\n",
       "      <td>1080.16</td>\n",
       "      <td>879.77</td>\n",
       "      <td>111.60</td>\n",
       "      <td>100.20</td>\n",
       "      <td>2201.04</td>\n",
       "      <td>30</td>\n",
       "      <td>0</td>\n",
       "      <td>1468.0</td>\n",
       "    </tr>\n",
       "    <tr>\n",
       "      <th>53</th>\n",
       "      <td>53</td>\n",
       "      <td>2492.0</td>\n",
       "      <td>60.0</td>\n",
       "      <td>2278.56</td>\n",
       "      <td>937.47</td>\n",
       "      <td>1225.68</td>\n",
       "      <td>252.10</td>\n",
       "      <td>304.97</td>\n",
       "      <td>2864.00</td>\n",
       "      <td>21</td>\n",
       "      <td>1</td>\n",
       "      <td>924.0</td>\n",
       "    </tr>\n",
       "    <tr>\n",
       "      <th>54</th>\n",
       "      <td>54</td>\n",
       "      <td>708.0</td>\n",
       "      <td>248.0</td>\n",
       "      <td>1304.86</td>\n",
       "      <td>433.61</td>\n",
       "      <td>789.19</td>\n",
       "      <td>257.43</td>\n",
       "      <td>122.28</td>\n",
       "      <td>1691.81</td>\n",
       "      <td>37</td>\n",
       "      <td>1</td>\n",
       "      <td>1669.0</td>\n",
       "    </tr>\n",
       "    <tr>\n",
       "      <th>55</th>\n",
       "      <td>55</td>\n",
       "      <td>560.0</td>\n",
       "      <td>74.0</td>\n",
       "      <td>727.01</td>\n",
       "      <td>227.25</td>\n",
       "      <td>502.48</td>\n",
       "      <td>159.80</td>\n",
       "      <td>106.38</td>\n",
       "      <td>1011.29</td>\n",
       "      <td>54</td>\n",
       "      <td>0</td>\n",
       "      <td>1235.0</td>\n",
       "    </tr>\n",
       "    <tr>\n",
       "      <th>56</th>\n",
       "      <td>56</td>\n",
       "      <td>1948.0</td>\n",
       "      <td>264.0</td>\n",
       "      <td>1836.00</td>\n",
       "      <td>838.96</td>\n",
       "      <td>819.69</td>\n",
       "      <td>184.56</td>\n",
       "      <td>105.53</td>\n",
       "      <td>1943.45</td>\n",
       "      <td>35</td>\n",
       "      <td>1</td>\n",
       "      <td>2126.0</td>\n",
       "    </tr>\n",
       "    <tr>\n",
       "      <th>57</th>\n",
       "      <td>57</td>\n",
       "      <td>1010.0</td>\n",
       "      <td>90.0</td>\n",
       "      <td>1061.65</td>\n",
       "      <td>379.12</td>\n",
       "      <td>683.06</td>\n",
       "      <td>99.71</td>\n",
       "      <td>76.25</td>\n",
       "      <td>1241.34</td>\n",
       "      <td>34</td>\n",
       "      <td>0</td>\n",
       "      <td>1319.0</td>\n",
       "    </tr>\n",
       "  </tbody>\n",
       "</table>\n",
       "</div>"
      ],
      "text/plain": [
       "    id  MO HLADR+ MFI (cells/ul)  Neu CD64+MFI (cells/ul)  CD3+T (cells/ul)  \\\n",
       "40  40                    1784.0                    474.0            337.75   \n",
       "41  41                     676.0                     64.0            622.25   \n",
       "42  42                     629.0                     76.0            427.06   \n",
       "43  43                     721.0                    117.0            983.00   \n",
       "44  44                    1733.0                    134.0           1443.62   \n",
       "45  45                    1546.0                    184.0            832.08   \n",
       "46  46                     838.0                    226.0           1025.32   \n",
       "47  47                     740.0                    187.0            530.77   \n",
       "48  48                     494.0                     61.0           1568.54   \n",
       "49  49                    1700.0                     71.0           1106.54   \n",
       "50  50                    1175.0                     60.0            847.11   \n",
       "51  51                    1956.0                    152.0           1786.48   \n",
       "52  52                    1122.0                     66.0           1955.03   \n",
       "53  53                    2492.0                     60.0           2278.56   \n",
       "54  54                     708.0                    248.0           1304.86   \n",
       "55  55                     560.0                     74.0            727.01   \n",
       "56  56                    1948.0                    264.0           1836.00   \n",
       "57  57                    1010.0                     90.0           1061.65   \n",
       "\n",
       "    CD8+T (cells/ul)  CD4+T (cells/ul)  NK (cells/ul)  CD19+ (cells/ul)  \\\n",
       "40            133.11            204.64          25.50             16.00   \n",
       "41            345.00            221.00          50.60             56.04   \n",
       "42            240.16            138.57          83.83              2.96   \n",
       "43            449.00            539.00         141.00             76.00   \n",
       "44            770.62            613.22          85.40            227.47   \n",
       "45            621.01            210.58         141.36             63.86   \n",
       "46            728.71            296.61         187.36            135.49   \n",
       "47            154.69            377.34          40.07             45.14   \n",
       "48            937.00            601.00         246.48            165.92   \n",
       "49            503.71            547.54         363.45            176.67   \n",
       "50            362.52            486.42         512.66            116.57   \n",
       "51            783.82            952.42         194.75            198.19   \n",
       "52           1080.16            879.77         111.60            100.20   \n",
       "53            937.47           1225.68         252.10            304.97   \n",
       "54            433.61            789.19         257.43            122.28   \n",
       "55            227.25            502.48         159.80            106.38   \n",
       "56            838.96            819.69         184.56            105.53   \n",
       "57            379.12            683.06          99.71             76.25   \n",
       "\n",
       "    CD45+ (cells/ul)  Age  Sex 0M1F  Mono CD64+MFI (cells/ul)  \n",
       "40            379.25   42         0                    6788.0  \n",
       "41            731.13   29         0                    1660.0  \n",
       "42            525.20   42         0                    1391.0  \n",
       "43           1200.00   37         0                    2771.0  \n",
       "44           1760.90   42         1                    1501.0  \n",
       "45           1043.63   51         0                    2281.0  \n",
       "46           1358.55   38         1                    1662.0  \n",
       "47            618.76   31         0                    2617.0  \n",
       "48           1983.61   38         0                    1923.0  \n",
       "49           1650.03   48         0                    1617.0  \n",
       "50           1486.10   47         0                    2013.0  \n",
       "51           2188.36   40         1                    2251.0  \n",
       "52           2201.04   30         0                    1468.0  \n",
       "53           2864.00   21         1                     924.0  \n",
       "54           1691.81   37         1                    1669.0  \n",
       "55           1011.29   54         0                    1235.0  \n",
       "56           1943.45   35         1                    2126.0  \n",
       "57           1241.34   34         0                    1319.0  "
      ]
     },
     "execution_count": 101,
     "metadata": {},
     "output_type": "execute_result"
    }
   ],
   "source": [
    "df3[0:58]"
   ]
  },
  {
   "cell_type": "code",
   "execution_count": 96,
   "metadata": {},
   "outputs": [],
   "source": [
    "V = df3[['MO HLADR+ MFI (cells/ul)', 'Neu CD64+MFI (cells/ul)',\n",
    "       'CD3+T (cells/ul)', 'CD8+T (cells/ul)', 'CD4+T (cells/ul)',\n",
    "       'NK (cells/ul)', 'CD19+ (cells/ul)', 'CD45+ (cells/ul)','Mono CD64+MFI (cells/ul)']]"
   ]
  },
  {
   "cell_type": "code",
   "execution_count": 100,
   "metadata": {},
   "outputs": [
    {
     "data": {
      "text/plain": [
       "59"
      ]
     },
     "execution_count": 100,
     "metadata": {},
     "output_type": "execute_result"
    }
   ],
   "source": [
    "len(V)"
   ]
  },
  {
   "cell_type": "code",
   "execution_count": 97,
   "metadata": {},
   "outputs": [],
   "source": [
    "labels = xg_cls.predict(V)"
   ]
  },
  {
   "cell_type": "code",
   "execution_count": 114,
   "metadata": {},
   "outputs": [],
   "source": [
    "labels2 = clf.predict(V)"
   ]
  },
  {
   "cell_type": "code",
   "execution_count": 115,
   "metadata": {},
   "outputs": [
    {
     "data": {
      "text/plain": [
       "59"
      ]
     },
     "execution_count": 115,
     "metadata": {},
     "output_type": "execute_result"
    }
   ],
   "source": [
    "len(labels2)"
   ]
  },
  {
   "cell_type": "code",
   "execution_count": 116,
   "metadata": {},
   "outputs": [],
   "source": [
    "import csv"
   ]
  },
  {
   "cell_type": "code",
   "execution_count": 117,
   "metadata": {},
   "outputs": [],
   "source": [
    "file = open('sample_submission.csv', 'w+')"
   ]
  },
  {
   "cell_type": "code",
   "execution_count": 118,
   "metadata": {},
   "outputs": [],
   "source": [
    "lst1 = range(59)\n",
    "lst2 = labels2\n",
    "dataframew = pd.DataFrame({'id':lst1,'label':labels})"
   ]
  },
  {
   "cell_type": "code",
   "execution_count": 119,
   "metadata": {},
   "outputs": [],
   "source": [
    "dataframew.to_csv(\"sample_submission.csv\",index=False)"
   ]
  },
  {
   "cell_type": "code",
   "execution_count": 120,
   "metadata": {},
   "outputs": [
    {
     "data": {
      "text/html": [
       "<div>\n",
       "<style scoped>\n",
       "    .dataframe tbody tr th:only-of-type {\n",
       "        vertical-align: middle;\n",
       "    }\n",
       "\n",
       "    .dataframe tbody tr th {\n",
       "        vertical-align: top;\n",
       "    }\n",
       "\n",
       "    .dataframe thead th {\n",
       "        text-align: right;\n",
       "    }\n",
       "</style>\n",
       "<table border=\"1\" class=\"dataframe\">\n",
       "  <thead>\n",
       "    <tr style=\"text-align: right;\">\n",
       "      <th></th>\n",
       "      <th>id</th>\n",
       "      <th>label</th>\n",
       "    </tr>\n",
       "  </thead>\n",
       "  <tbody>\n",
       "    <tr>\n",
       "      <th>0</th>\n",
       "      <td>0</td>\n",
       "      <td>0</td>\n",
       "    </tr>\n",
       "    <tr>\n",
       "      <th>1</th>\n",
       "      <td>1</td>\n",
       "      <td>0</td>\n",
       "    </tr>\n",
       "    <tr>\n",
       "      <th>2</th>\n",
       "      <td>2</td>\n",
       "      <td>0</td>\n",
       "    </tr>\n",
       "    <tr>\n",
       "      <th>3</th>\n",
       "      <td>3</td>\n",
       "      <td>0</td>\n",
       "    </tr>\n",
       "    <tr>\n",
       "      <th>4</th>\n",
       "      <td>4</td>\n",
       "      <td>0</td>\n",
       "    </tr>\n",
       "  </tbody>\n",
       "</table>\n",
       "</div>"
      ],
      "text/plain": [
       "   id  label\n",
       "0   0      0\n",
       "1   1      0\n",
       "2   2      0\n",
       "3   3      0\n",
       "4   4      0"
      ]
     },
     "execution_count": 120,
     "metadata": {},
     "output_type": "execute_result"
    }
   ],
   "source": [
    "dataframew[['id','label']].head()"
   ]
  },
  {
   "cell_type": "code",
   "execution_count": 110,
   "metadata": {},
   "outputs": [
    {
     "data": {
      "text/plain": [
       "array([0, 0, 0, 0, 0, 0, 0, 0, 0, 0, 0, 1, 0, 0, 0, 0, 0, 0, 0, 0, 1, 1,\n",
       "       0, 0, 0, 1, 1, 0, 1, 0, 1, 1, 0, 1, 0, 0, 0, 1, 1, 0, 1, 0, 0, 0,\n",
       "       0, 0, 0, 1, 0, 0, 0, 0, 0, 0, 1, 0, 0, 0, 1])"
      ]
     },
     "execution_count": 110,
     "metadata": {},
     "output_type": "execute_result"
    }
   ],
   "source": [
    "labels"
   ]
  },
  {
   "cell_type": "code",
   "execution_count": 111,
   "metadata": {},
   "outputs": [
    {
     "data": {
      "text/html": [
       "<div>\n",
       "<style scoped>\n",
       "    .dataframe tbody tr th:only-of-type {\n",
       "        vertical-align: middle;\n",
       "    }\n",
       "\n",
       "    .dataframe tbody tr th {\n",
       "        vertical-align: top;\n",
       "    }\n",
       "\n",
       "    .dataframe thead th {\n",
       "        text-align: right;\n",
       "    }\n",
       "</style>\n",
       "<table border=\"1\" class=\"dataframe\">\n",
       "  <thead>\n",
       "    <tr style=\"text-align: right;\">\n",
       "      <th></th>\n",
       "      <th>MO HLADR+ MFI (cells/ul)</th>\n",
       "      <th>Neu CD64+MFI (cells/ul)</th>\n",
       "      <th>CD3+T (cells/ul)</th>\n",
       "      <th>CD8+T (cells/ul)</th>\n",
       "      <th>CD4+T (cells/ul)</th>\n",
       "      <th>NK (cells/ul)</th>\n",
       "      <th>CD19+ (cells/ul)</th>\n",
       "      <th>CD45+ (cells/ul)</th>\n",
       "      <th>Mono CD64+MFI (cells/ul)</th>\n",
       "    </tr>\n",
       "  </thead>\n",
       "  <tbody>\n",
       "    <tr>\n",
       "      <th>0</th>\n",
       "      <td>2843.0</td>\n",
       "      <td>156.0</td>\n",
       "      <td>1358.52</td>\n",
       "      <td>730.78</td>\n",
       "      <td>637.85</td>\n",
       "      <td>127.06</td>\n",
       "      <td>94.82</td>\n",
       "      <td>1588.62</td>\n",
       "      <td>3256.0</td>\n",
       "    </tr>\n",
       "    <tr>\n",
       "      <th>1</th>\n",
       "      <td>437.0</td>\n",
       "      <td>137.0</td>\n",
       "      <td>509.43</td>\n",
       "      <td>268.05</td>\n",
       "      <td>243.07</td>\n",
       "      <td>390.86</td>\n",
       "      <td>98.24</td>\n",
       "      <td>1002.76</td>\n",
       "      <td>491.0</td>\n",
       "    </tr>\n",
       "    <tr>\n",
       "      <th>2</th>\n",
       "      <td>826.0</td>\n",
       "      <td>82.0</td>\n",
       "      <td>1232.22</td>\n",
       "      <td>493.42</td>\n",
       "      <td>744.08</td>\n",
       "      <td>516.28</td>\n",
       "      <td>320.15</td>\n",
       "      <td>2200.58</td>\n",
       "      <td>1381.0</td>\n",
       "    </tr>\n",
       "    <tr>\n",
       "      <th>3</th>\n",
       "      <td>861.0</td>\n",
       "      <td>50.0</td>\n",
       "      <td>1512.86</td>\n",
       "      <td>925.51</td>\n",
       "      <td>590.07</td>\n",
       "      <td>380.25</td>\n",
       "      <td>25.80</td>\n",
       "      <td>1929.10</td>\n",
       "      <td>1377.0</td>\n",
       "    </tr>\n",
       "    <tr>\n",
       "      <th>4</th>\n",
       "      <td>1160.0</td>\n",
       "      <td>157.0</td>\n",
       "      <td>890.42</td>\n",
       "      <td>403.91</td>\n",
       "      <td>489.53</td>\n",
       "      <td>266.92</td>\n",
       "      <td>87.63</td>\n",
       "      <td>1251.52</td>\n",
       "      <td>1844.0</td>\n",
       "    </tr>\n",
       "    <tr>\n",
       "      <th>5</th>\n",
       "      <td>867.0</td>\n",
       "      <td>85.0</td>\n",
       "      <td>1662.11</td>\n",
       "      <td>865.50</td>\n",
       "      <td>804.14</td>\n",
       "      <td>220.68</td>\n",
       "      <td>92.58</td>\n",
       "      <td>2063.11</td>\n",
       "      <td>986.0</td>\n",
       "    </tr>\n",
       "    <tr>\n",
       "      <th>6</th>\n",
       "      <td>1330.0</td>\n",
       "      <td>114.0</td>\n",
       "      <td>1307.95</td>\n",
       "      <td>710.86</td>\n",
       "      <td>607.96</td>\n",
       "      <td>271.01</td>\n",
       "      <td>214.49</td>\n",
       "      <td>1855.05</td>\n",
       "      <td>2077.0</td>\n",
       "    </tr>\n",
       "    <tr>\n",
       "      <th>7</th>\n",
       "      <td>494.0</td>\n",
       "      <td>48.0</td>\n",
       "      <td>1522.39</td>\n",
       "      <td>618.19</td>\n",
       "      <td>911.49</td>\n",
       "      <td>338.85</td>\n",
       "      <td>104.45</td>\n",
       "      <td>2013.05</td>\n",
       "      <td>1409.0</td>\n",
       "    </tr>\n",
       "    <tr>\n",
       "      <th>8</th>\n",
       "      <td>2119.0</td>\n",
       "      <td>73.0</td>\n",
       "      <td>1219.66</td>\n",
       "      <td>732.14</td>\n",
       "      <td>468.48</td>\n",
       "      <td>71.54</td>\n",
       "      <td>83.08</td>\n",
       "      <td>1378.32</td>\n",
       "      <td>2403.0</td>\n",
       "    </tr>\n",
       "    <tr>\n",
       "      <th>9</th>\n",
       "      <td>2052.0</td>\n",
       "      <td>39.0</td>\n",
       "      <td>1223.65</td>\n",
       "      <td>642.55</td>\n",
       "      <td>565.39</td>\n",
       "      <td>323.67</td>\n",
       "      <td>153.64</td>\n",
       "      <td>1711.88</td>\n",
       "      <td>1701.0</td>\n",
       "    </tr>\n",
       "  </tbody>\n",
       "</table>\n",
       "</div>"
      ],
      "text/plain": [
       "   MO HLADR+ MFI (cells/ul)  Neu CD64+MFI (cells/ul)  CD3+T (cells/ul)  \\\n",
       "0                    2843.0                    156.0           1358.52   \n",
       "1                     437.0                    137.0            509.43   \n",
       "2                     826.0                     82.0           1232.22   \n",
       "3                     861.0                     50.0           1512.86   \n",
       "4                    1160.0                    157.0            890.42   \n",
       "5                     867.0                     85.0           1662.11   \n",
       "6                    1330.0                    114.0           1307.95   \n",
       "7                     494.0                     48.0           1522.39   \n",
       "8                    2119.0                     73.0           1219.66   \n",
       "9                    2052.0                     39.0           1223.65   \n",
       "\n",
       "   CD8+T (cells/ul)  CD4+T (cells/ul)  NK (cells/ul)  CD19+ (cells/ul)  \\\n",
       "0            730.78            637.85         127.06             94.82   \n",
       "1            268.05            243.07         390.86             98.24   \n",
       "2            493.42            744.08         516.28            320.15   \n",
       "3            925.51            590.07         380.25             25.80   \n",
       "4            403.91            489.53         266.92             87.63   \n",
       "5            865.50            804.14         220.68             92.58   \n",
       "6            710.86            607.96         271.01            214.49   \n",
       "7            618.19            911.49         338.85            104.45   \n",
       "8            732.14            468.48          71.54             83.08   \n",
       "9            642.55            565.39         323.67            153.64   \n",
       "\n",
       "   CD45+ (cells/ul)  Mono CD64+MFI (cells/ul)  \n",
       "0           1588.62                    3256.0  \n",
       "1           1002.76                     491.0  \n",
       "2           2200.58                    1381.0  \n",
       "3           1929.10                    1377.0  \n",
       "4           1251.52                    1844.0  \n",
       "5           2063.11                     986.0  \n",
       "6           1855.05                    2077.0  \n",
       "7           2013.05                    1409.0  \n",
       "8           1378.32                    2403.0  \n",
       "9           1711.88                    1701.0  "
      ]
     },
     "execution_count": 111,
     "metadata": {},
     "output_type": "execute_result"
    }
   ],
   "source": [
    "V[0:10]"
   ]
  },
  {
   "cell_type": "code",
   "execution_count": 121,
   "metadata": {},
   "outputs": [
    {
     "data": {
      "text/plain": [
       "array([0, 0, 0, 0, 0, 0, 0, 0, 0, 0, 0, 1, 0, 0, 0, 0, 0, 0, 0, 0, 1, 1,\n",
       "       0, 0, 0, 1, 0, 0, 1, 0, 1, 1, 0, 1, 0, 0, 0, 1, 1, 0, 1, 0, 0, 0,\n",
       "       0, 0, 0, 1, 0, 0, 0, 0, 0, 0, 0, 0, 0, 0, 1])"
      ]
     },
     "execution_count": 121,
     "metadata": {},
     "output_type": "execute_result"
    }
   ],
   "source": [
    "labels2"
   ]
  },
  {
   "cell_type": "code",
   "execution_count": 122,
   "metadata": {},
   "outputs": [],
   "source": [
    "xg_reg = xgb.XGBRegressor(objective ='reg:squarederror', n_estimators = 50)"
   ]
  },
  {
   "cell_type": "code",
   "execution_count": 123,
   "metadata": {},
   "outputs": [
    {
     "data": {
      "text/plain": [
       "XGBRegressor(base_score=0.5, booster='gbtree', colsample_bylevel=1,\n",
       "             colsample_bynode=1, colsample_bytree=1, enable_categorical=False,\n",
       "             gamma=0, gpu_id=-1, importance_type=None,\n",
       "             interaction_constraints='', learning_rate=0.300000012,\n",
       "             max_delta_step=0, max_depth=6, min_child_weight=1, missing=nan,\n",
       "             monotone_constraints='()', n_estimators=50, n_jobs=8,\n",
       "             num_parallel_tree=1, predictor='auto', random_state=0, reg_alpha=0,\n",
       "             reg_lambda=1, scale_pos_weight=1, subsample=1, tree_method='exact',\n",
       "             validate_parameters=1, verbosity=None)"
      ]
     },
     "execution_count": 123,
     "metadata": {},
     "output_type": "execute_result"
    }
   ],
   "source": [
    "xg_reg.fit(X,Y)"
   ]
  },
  {
   "cell_type": "code",
   "execution_count": 124,
   "metadata": {},
   "outputs": [],
   "source": [
    "preds = xg_reg.predict(V)"
   ]
  },
  {
   "cell_type": "code",
   "execution_count": 125,
   "metadata": {},
   "outputs": [],
   "source": [
    "preds1 = xg_reg.predict(X)"
   ]
  },
  {
   "cell_type": "code",
   "execution_count": 126,
   "metadata": {},
   "outputs": [
    {
     "name": "stdout",
     "output_type": "stream",
     "text": [
      "Accuracy: 1.0\n"
     ]
    }
   ],
   "source": [
    "print(\"Accuracy:\",metrics.accuracy_score(1*(preds1>0.5), Y))"
   ]
  },
  {
   "cell_type": "code",
   "execution_count": 128,
   "metadata": {},
   "outputs": [],
   "source": [
    "labels3 = 1*(preds>0.5)"
   ]
  },
  {
   "cell_type": "code",
   "execution_count": 129,
   "metadata": {},
   "outputs": [],
   "source": [
    "file = open('sample_submission.csv', 'w+')"
   ]
  },
  {
   "cell_type": "code",
   "execution_count": 130,
   "metadata": {},
   "outputs": [],
   "source": [
    "lst1 = range(59)\n",
    "\n",
    "dataframew = pd.DataFrame({'id':lst1,'label':labels2})\n",
    "dataframew.to_csv(\"sample_submission.csv\",index=False)"
   ]
  },
  {
   "cell_type": "code",
   "execution_count": null,
   "metadata": {},
   "outputs": [],
   "source": []
  }
 ],
 "metadata": {
  "kernelspec": {
   "display_name": "Python 3",
   "language": "python",
   "name": "python3"
  },
  "language_info": {
   "codemirror_mode": {
    "name": "ipython",
    "version": 3
   },
   "file_extension": ".py",
   "mimetype": "text/x-python",
   "name": "python",
   "nbconvert_exporter": "python",
   "pygments_lexer": "ipython3",
   "version": "3.7.7"
  }
 },
 "nbformat": 4,
 "nbformat_minor": 4
}
